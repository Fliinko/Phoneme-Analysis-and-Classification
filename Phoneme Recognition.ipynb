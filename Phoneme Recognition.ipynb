{
 "cells": [
  {
   "cell_type": "code",
   "execution_count": 1,
   "id": "f83001f5",
   "metadata": {},
   "outputs": [],
   "source": [
    "import pandas as pd\n",
    "from sklearn.model_selection import train_test_split\n",
    "import matplotlib.pyplot as plt\n",
    "import itertools\n",
    "import numpy as np\n",
    "from sklearn import metrics\n",
    "from sklearn.metrics import confusion_matrix\n",
    "from sklearn.model_selection import GridSearchCV\n",
    "from sklearn.model_selection import RandomizedSearchCV\n",
    "from datetime import datetime\n",
    "from sklearn import neighbors"
   ]
  },
  {
   "cell_type": "markdown",
   "id": "8c99558d",
   "metadata": {},
   "source": [
    "# Feature Extraction\n",
    "\n",
    "Reading the Whole Dataset and dropping the 'useless' data fields, therefore leaving the 3 formants and the Vowel Phoneme"
   ]
  },
  {
   "cell_type": "code",
   "execution_count": 82,
   "id": "39c7e246",
   "metadata": {},
   "outputs": [
    {
     "name": "stdout",
     "output_type": "stream",
     "text": [
      "Reading the Data...\n",
      "Dataset...\n",
      "    VowelPhoneme     Formant1     Formant2     Formant3\n",
      "0             IY   434.936633  2675.424694  3109.763299\n",
      "1             EH   764.290090  2352.944311  3135.745249\n",
      "2             UH   669.311088  1480.634263  2795.212672\n",
      "3             IY   334.539276  2399.227201  2953.039129\n",
      "4             EH   534.938773  2091.716984  2662.214150\n",
      "..           ...          ...          ...          ...\n",
      "145           EH   559.521241  2436.745638  3002.987180\n",
      "146           UH   420.846534  2039.074500  2756.119879\n",
      "147           IY   155.105185  2420.387305  3025.554969\n",
      "148           EH   534.411664  2109.610205  2916.112097\n",
      "149           UH  1569.345614  2549.187617  3349.469301\n",
      "\n",
      "[150 rows x 4 columns]\n",
      "Finished...\n",
      "Splitting into Gender Datasets...\n",
      "Splitting Female Dataset...\n",
      "Splitting Male Dataset...\n",
      "Finished Split...\n",
      "Female Dataset...\n",
      "       VowelPhoneme    Formant1     Formant2     Formant3\n",
      "Gender                                                   \n",
      "F                IY  434.936633  2675.424694  3109.763299\n",
      "F                EH  764.290090  2352.944311  3135.745249\n",
      "F                UH  669.311088  1480.634263  2795.212672\n",
      "F                IY  422.896905  2697.183672  3259.297920\n",
      "F                EH  778.870975  2322.493946  3275.983166\n",
      "...             ...         ...          ...          ...\n",
      "F                EH  606.754595  2339.564817  2870.969332\n",
      "F                UH  524.193465  1805.009618  2536.995623\n",
      "F                IY  361.191067  2805.664914  3197.418098\n",
      "F                EH  559.521241  2436.745638  3002.987180\n",
      "F                UH  420.846534  2039.074500  2756.119879\n",
      "\n",
      "[75 rows x 4 columns]\n",
      "Male Dataset...\n",
      "       VowelPhoneme     Formant1     Formant2     Formant3\n",
      "Gender                                                    \n",
      "M                IY   334.539276  2399.227201  2953.039129\n",
      "M                EH   534.938773  2091.716984  2662.214150\n",
      "M                UH   438.234324  1052.586213  2749.806044\n",
      "M                IY   333.547189  2085.985930  2871.756410\n",
      "M                EH   539.633604  1969.742956  2588.010501\n",
      "...             ...          ...          ...          ...\n",
      "M                EH   506.887448  2237.749559  2963.252689\n",
      "M                UH   425.060554  1664.849519  2544.724824\n",
      "M                IY   155.105185  2420.387305  3025.554969\n",
      "M                EH   534.411664  2109.610205  2916.112097\n",
      "M                UH  1569.345614  2549.187617  3349.469301\n",
      "\n",
      "[75 rows x 4 columns]\n"
     ]
    }
   ],
   "source": [
    "print(\"Reading the Data...\")\n",
    "\n",
    "data = pd.read_csv(\"rawdataset.csv\")\n",
    "\n",
    "data = data.drop(['Speaker Label'], axis = 1)\n",
    "data = data.drop(['Gender'], axis = 1)\n",
    "data = data.drop(['Word'], axis = 1)\n",
    "data = data.drop(['Class'], axis = 1)\n",
    "data = data.drop(['Time Marker'], axis = 1)\n",
    "\n",
    "print(\"Dataset...\")\n",
    "print(data)\n",
    "print(\"Finished...\")\n",
    "\n",
    "print(\"Splitting into Gender Datasets...\")\n",
    "gendertest = pd.read_csv(\"rawdataset.csv\")\n",
    "gendertest = gendertest.drop(['Speaker Label'], axis = 1)\n",
    "gendertest = gendertest.drop(['Word'], axis = 1)\n",
    "gendertest = gendertest.drop(['Class'], axis = 1)\n",
    "gendertest = gendertest.drop(['Time Marker'], axis = 1)\n",
    "\n",
    "gendertest = gendertest.set_index(\"Gender\")\n",
    "\n",
    "print(\"Splitting Female Dataset...\")\n",
    "female = gendertest.drop([\"M\"], axis = 0)\n",
    "print(\"Splitting Male Dataset...\")\n",
    "male = gendertest.drop([\"F\"], axis = 0)\n",
    "\n",
    "print(\"Finished Split...\")\n",
    "\n",
    "print(\"Female Dataset...\")\n",
    "print(female)\n",
    "print(\"Male Dataset...\")\n",
    "print(male)"
   ]
  },
  {
   "cell_type": "markdown",
   "id": "f6ffa87b",
   "metadata": {},
   "source": [
    "# Modelling the Data"
   ]
  },
  {
   "cell_type": "markdown",
   "id": "9c64a112",
   "metadata": {},
   "source": [
    "## Splitting into Test and Training Sets\n",
    "\n",
    "The 'VowelPhoneme' is either dropped or chosen in the respective training and test sets is due to the Vowel Phoneme being the label, and therefore X is trained and tested without the label, whereas y is training and testing only the phonemes"
   ]
  },
  {
   "cell_type": "code",
   "execution_count": 77,
   "id": "f73cb27c",
   "metadata": {},
   "outputs": [],
   "source": [
    "train, test = train_test_split(female, test_size= 0.25, shuffle=True)\n",
    "\n",
    "y_train = train.VowelPhoneme\n",
    "X_train = train.drop(['VowelPhoneme'], axis=1)\n",
    "y_test = test.VowelPhoneme\n",
    "X_test = test.drop(['VowelPhoneme'], axis=1)"
   ]
  },
  {
   "cell_type": "markdown",
   "id": "d5176d60",
   "metadata": {},
   "source": [
    "## Allowing the Plotting of a Confusion Matrix\n",
    "\n",
    "The function below upon calling prints the confusion matrix given a classification algorithm being executed correctly"
   ]
  },
  {
   "cell_type": "code",
   "execution_count": 61,
   "id": "f9016ca6",
   "metadata": {},
   "outputs": [],
   "source": [
    "def plot_confusion_matrix(cm, classes, normalize=False, title='Confusion Matrix', cmap=plt.cm.Blues):\n",
    "    if normalize:\n",
    "        cm = cm.astype('float') / cm.sum(axis=1)[:, np.newaxis]\n",
    "    \n",
    "    plt.imshow(cm, interpolation='nearest', cmap=cmap)\n",
    "    plt.title(title)\n",
    "    plt.colorbar()\n",
    "    tick_marks = np.arange(len(classes))\n",
    "    plt.xticks(tick_marks, classes, rotation=90)\n",
    "    plt.yticks(tick_marks, classes)\n",
    "    \n",
    "    fmt = '.2f' if normalize else 'd'\n",
    "    thresh = cm.max() / 2\n",
    "    \n",
    "    for i, j in itertools.product(range(cm.shape[0]), range(cm.shape[1])):\n",
    "        plt.text(j, i, format(cm[i, j], fmt), horizontalalignment=\"center\", color=\"white\" if cm[i, j] > thresh else \"black\")\n",
    "        \n",
    "    plt.tight_layout()\n",
    "    plt.ylabel('True Label')\n",
    "    plt.xlabel('Predicted Label')"
   ]
  },
  {
   "cell_type": "markdown",
   "id": "e20cec3e",
   "metadata": {},
   "source": [
    "## Allowing the Model to be Performed\n",
    "With additional helping prints"
   ]
  },
  {
   "cell_type": "code",
   "execution_count": 62,
   "id": "ee528370",
   "metadata": {},
   "outputs": [],
   "source": [
    "def perform_model(model, X_train, y_train, X_test, y_test, class_labels, cm_normalize=True, print_cm=True, cm_map=plt.cm.Greens):\n",
    "    # to store results at various phases\n",
    "    results = dict()\n",
    "    \n",
    "    # time at which model starts training\n",
    "    train_start_time = datetime.now()\n",
    "    print('training the model..')\n",
    "    model.fit(X_train, y_train)\n",
    "    print(\"Done\\n\\n\")\n",
    "    train_end_time = datetime.now()\n",
    "    results['training_time'] = train_end_time - train_start_time\n",
    "    print('training_time(HH:MM:SS.ms) - {}\\n\\n'.format(results['training_time']))\n",
    "    \n",
    "    # predict test data\n",
    "    print('Predicting test data')\n",
    "    test_start_time = datetime.now()\n",
    "    y_pred = model.predict(X_test)\n",
    "    test_end_time = datetime.now()\n",
    "    print('Done\\n\\n')\n",
    "    results['testing_time'] = test_end_time - test_start_time\n",
    "    print('testing_time(HH:MM:SS.ms) - {}\\n\\n'.format(results['testing_time']))\n",
    "    results['predicted'] = y_pred\n",
    "    \n",
    "    # calculate overall accuracty of the model\n",
    "    accuracy = metrics.accuracy_score(y_true=y_test, y_pred=y_pred)\n",
    "    # store accuracy in results\n",
    "    results['accuracy'] = accuracy\n",
    "    print('-----------------------')\n",
    "    print('|       Accuracy      |')\n",
    "    print('-----------------------')\n",
    "    print('\\n      {}\\n\\n'.format(accuracy))\n",
    "    \n",
    "    # confusion matrix\n",
    "    cm = metrics.confusion_matrix(y_test, y_pred)\n",
    "    results['confusion_matrix'] = cm\n",
    "    if print_cm:\n",
    "        print('-----------------------')\n",
    "        print('|   Confusion Matrix  |')\n",
    "        print('-----------------------')\n",
    "        print('\\n {}'.format(cm))\n",
    "    \n",
    "    # plot confusion matrix\n",
    "    plt.figure(figsize=(8,8))\n",
    "    plt.grid(b=False)\n",
    "    plot_confusion_matrix(cm, classes=class_labels, normalize=True, title='Normalized Confusion Matrix', cmap=cm_map)\n",
    "    plt.show()\n",
    "    \n",
    "    # get classification report\n",
    "    print('-----------------------------')\n",
    "    print('|   Classification Report   |')\n",
    "    print('-----------------------------')\n",
    "    classification_report = metrics.classification_report(y_test, y_pred)\n",
    "    \n",
    "    # store report in results\n",
    "    results['classification_report'] = classification_report\n",
    "    print(classification_report)\n",
    "    \n",
    "    # add the trained model to the results\n",
    "    results['model'] = model\n",
    "    \n",
    "    return results"
   ]
  },
  {
   "cell_type": "markdown",
   "id": "c7f26667",
   "metadata": {},
   "source": [
    "Printing the best parameters after the grid search is performed. This aids in the testing procedure, helping identify which variables are to be fixed or not, and also helps in the analysis, to understand and explain where the classification works best"
   ]
  },
  {
   "cell_type": "code",
   "execution_count": 63,
   "id": "c69ddbb1",
   "metadata": {},
   "outputs": [],
   "source": [
    "# function to print the gridsearch Attributes\n",
    "def print_grid_search_attributes(model):\n",
    "    # Estimator that gave highest score among all the estimators formed in GridSearch\n",
    "    print('-----------------------')\n",
    "    print('|    Best Estimator   |')\n",
    "    print('-----------------------')\n",
    "    print('\\n\\t{}\\n'.format(model.best_estimator_))\n",
    "    \n",
    "    # parameters that gave best results while performing grid search\n",
    "    print('-----------------------')\n",
    "    print('|   Best Parameters   |')\n",
    "    print('-----------------------')\n",
    "    print('\\tParameters of best estimator : \\n\\n\\t{}\\n'.format(model.best_params_))\n",
    "    \n",
    "    # number of cross validation splits\n",
    "    print('--------------------------------')\n",
    "    print('|  No of CrossValidation sets  |')\n",
    "    print('--------------------------------')\n",
    "    print('\\n\\tTotal number of cross validation sets: {}\\n'.format(model.n_splits_))\n",
    "    \n",
    "    # Average cross validated score of the best estimator, from the Grid Search\n",
    "    print('-----------------------')\n",
    "    print('|      Best Score     |')\n",
    "    print('-----------------------')\n",
    "    print('\\n\\tAverage Cross Validate scores of best estimator : \\n\\n\\t{}\\n'.format(model.best_score_))"
   ]
  },
  {
   "cell_type": "markdown",
   "id": "3b5f6095",
   "metadata": {},
   "source": [
    "## K Nearest Neighbours\n",
    "\n"
   ]
  },
  {
   "cell_type": "code",
   "execution_count": 78,
   "id": "2a32d2e6",
   "metadata": {
    "scrolled": false
   },
   "outputs": [
    {
     "name": "stdout",
     "output_type": "stream",
     "text": [
      "training the model..\n",
      "Fitting 5 folds for each of 24 candidates, totalling 120 fits\n",
      "Done\n",
      "\n",
      "\n",
      "training_time(HH:MM:SS.ms) - 0:00:00.650059\n",
      "\n",
      "\n",
      "Predicting test data\n",
      "Done\n",
      "\n",
      "\n",
      "testing_time(HH:MM:SS.ms) - 0:00:00.002965\n",
      "\n",
      "\n",
      "-----------------------\n",
      "|       Accuracy      |\n",
      "-----------------------\n",
      "\n",
      "      0.8947368421052632\n",
      "\n",
      "\n",
      "-----------------------\n",
      "|   Confusion Matrix  |\n",
      "-----------------------\n",
      "\n",
      " [[6 0 0]\n",
      " [0 4 0]\n",
      " [2 0 7]]\n"
     ]
    },
    {
     "data": {
      "image/png": "[encoded data removed]",
      "text/plain": [
       "<Figure size 576x576 with 2 Axes>"
      ]
     },
     "metadata": {
      "needs_background": "light"
     },
     "output_type": "display_data"
    },
    {
     "name": "stdout",
     "output_type": "stream",
     "text": [
      "-----------------------------\n",
      "|   Classification Report   |\n",
      "-----------------------------\n",
      "              precision    recall  f1-score   support\n",
      "\n",
      "          EH       0.75      1.00      0.86         6\n",
      "          IY       1.00      1.00      1.00         4\n",
      "          UH       1.00      0.78      0.88         9\n",
      "\n",
      "    accuracy                           0.89        19\n",
      "   macro avg       0.92      0.93      0.91        19\n",
      "weighted avg       0.92      0.89      0.90        19\n",
      "\n"
     ]
    }
   ],
   "source": [
    "knn_params = {'n_neighbors':[2, 3, 4, 5], 'weights': ['uniform','distance'], 'algorithm': ['ball_tree', 'kd_tree','brute'], 'metric': ['minkowski']}\n",
    "labels = ['IY', 'EH', 'UH']\n",
    "knn_kernel = neighbors.KNeighborsClassifier()\n",
    "knn_grid = GridSearchCV(knn_kernel, param_grid=knn_params, n_jobs=-1, verbose=1)\n",
    "knn_grid_results = perform_model(knn_grid, X_train, y_train, X_test, y_test, class_labels = labels)"
   ]
  },
  {
   "cell_type": "markdown",
   "id": "bda2a0d7",
   "metadata": {},
   "source": [
    "The below was created to assist in a better KNN Classifier. Initially I had opted for larger values of K, which resulted in an unsatisfying accuracy. The below showed that a value of K being 2 is the best option which sky rocketed the accuracy."
   ]
  },
  {
   "cell_type": "code",
   "execution_count": 37,
   "id": "6b98e044",
   "metadata": {},
   "outputs": [
    {
     "name": "stdout",
     "output_type": "stream",
     "text": [
      "-----------------------\n",
      "|    Best Estimator   |\n",
      "-----------------------\n",
      "\n",
      "\tKNeighborsClassifier(algorithm='ball_tree', n_neighbors=3)\n",
      "\n",
      "-----------------------\n",
      "|   Best Parameters   |\n",
      "-----------------------\n",
      "\tParameters of best estimator : \n",
      "\n",
      "\t{'algorithm': 'ball_tree', 'metric': 'minkowski', 'n_neighbors': 3, 'weights': 'uniform'}\n",
      "\n",
      "--------------------------------\n",
      "|  No of CrossValidation sets  |\n",
      "--------------------------------\n",
      "\n",
      "\tTotal number of cross validation sets: 5\n",
      "\n",
      "-----------------------\n",
      "|      Best Score     |\n",
      "-----------------------\n",
      "\n",
      "\tAverage Cross Validate scores of best estimator : \n",
      "\n",
      "\t0.8928853754940711\n",
      "\n"
     ]
    }
   ],
   "source": [
    "print_grid_search_attributes(knn_grid_results['model'])"
   ]
  },
  {
   "cell_type": "code",
   "execution_count": null,
   "id": "6f3f9cba",
   "metadata": {},
   "outputs": [],
   "source": []
  }
 ],
 "metadata": {
  "kernelspec": {
   "display_name": "Python 3",
   "language": "python",
   "name": "python3"
  },
  "language_info": {
   "codemirror_mode": {
    "name": "ipython",
    "version": 3
   },
   "file_extension": ".py",
   "mimetype": "text/x-python",
   "name": "python",
   "nbconvert_exporter": "python",
   "pygments_lexer": "ipython3",
   "version": "3.8.8"
  }
 },
 "nbformat": 4,
 "nbformat_minor": 5
}
